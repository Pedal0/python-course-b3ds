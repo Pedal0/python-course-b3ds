{
 "cells": [
  {
   "cell_type": "markdown",
   "metadata": {},
   "source": [
    "Imports des dependences"
   ]
  },
  {
   "cell_type": "code",
   "execution_count": 7,
   "metadata": {},
   "outputs": [],
   "source": [
    "import pandas as pd\n",
    "import json"
   ]
  },
  {
   "cell_type": "markdown",
   "metadata": {},
   "source": [
    "Jeu de donnée"
   ]
  },
  {
   "cell_type": "code",
   "execution_count": 8,
   "metadata": {},
   "outputs": [],
   "source": [
    "with open('./data/suisse.json', 'r') as json_file:\n",
    "    df = json.load(json_file)"
   ]
  },
  {
   "cell_type": "markdown",
   "metadata": {},
   "source": [
    "Reorganisation du dictionnaire"
   ]
  },
  {
   "cell_type": "code",
   "execution_count": 9,
   "metadata": {},
   "outputs": [],
   "source": [
    "df = sorted(df, key=lambda x:x[\"elo_points\"])"
   ]
  },
  {
   "cell_type": "markdown",
   "metadata": {},
   "source": [
    "Split du dictionnaire pour former les deux equipes"
   ]
  },
  {
   "cell_type": "code",
   "execution_count": 10,
   "metadata": {},
   "outputs": [
    {
     "name": "stdout",
     "output_type": "stream",
     "text": [
      "Equipe 1:  [{'id': 1, 'first_name': 'Hans', 'last_name': 'Niemann', 'elo_points': 1882}, {'id': 3, 'first_name': 'Anna', 'last_name': 'Cramling', 'elo_points': 2235}, {'id': 6, 'first_name': 'Dina', 'last_name': 'Belenkaya', 'elo_points': 2456}]\n",
      "Equipe_2:  [{'id': 2, 'first_name': 'Anish', 'last_name': 'Giri', 'elo_points': 2547}, {'id': 5, 'first_name': 'Hikaru', 'last_name': 'Nakamura', 'elo_points': 2659}, {'id': 4, 'first_name': 'Magnus', 'last_name': 'Carlsen', 'elo_points': 2878}]\n"
     ]
    }
   ],
   "source": [
    "half = len(df) // 2\n",
    "equipe_1 = df[:half]\n",
    "equipe_2 = df[half:]\n",
    "print(\"Equipe 1: \", equipe_1)\n",
    "print(\"Equipe_2: \", equipe_2)"
   ]
  },
  {
   "cell_type": "markdown",
   "metadata": {},
   "source": [
    "Boucle sur organisation du tournois"
   ]
  },
  {
   "cell_type": "code",
   "execution_count": 11,
   "metadata": {},
   "outputs": [],
   "source": [
    "# Créer les matchmaking\n",
    "matchmaking = [{'equipe_1': equipe_1[i], 'equipe_2': equipe_2[i]} for i in range(len(equipe_1))]"
   ]
  },
  {
   "cell_type": "markdown",
   "metadata": {},
   "source": [
    "Enregistrement des données"
   ]
  },
  {
   "cell_type": "code",
   "execution_count": 12,
   "metadata": {},
   "outputs": [
    {
     "name": "stdout",
     "output_type": "stream",
     "text": [
      "Matchmaking enregistrés\n"
     ]
    }
   ],
   "source": [
    "# Enregistrer les matchmaking dans un fichier JSON\n",
    "with open('./data/matchmaking.json', 'w') as file:\n",
    "    json.dump(matchmaking, file, indent=4)\n",
    "\n",
    "print(\"Matchmaking enregistrés\")"
   ]
  }
 ],
 "metadata": {
  "kernelspec": {
   "display_name": "app-venv",
   "language": "python",
   "name": "python3"
  },
  "language_info": {
   "codemirror_mode": {
    "name": "ipython",
    "version": 3
   },
   "file_extension": ".py",
   "mimetype": "text/x-python",
   "name": "python",
   "nbconvert_exporter": "python",
   "pygments_lexer": "ipython3",
   "version": "3.12.4"
  }
 },
 "nbformat": 4,
 "nbformat_minor": 2
}
